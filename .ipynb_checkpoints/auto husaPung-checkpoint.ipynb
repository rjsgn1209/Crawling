{
 "cells": [
  {
   "cell_type": "code",
   "execution_count": 187,
   "id": "8b673dda",
   "metadata": {
    "scrolled": true
   },
   "outputs": [
    {
     "name": "stderr",
     "output_type": "stream",
     "text": [
      "C:\\Users\\bitcamp\\AppData\\Local\\Temp/ipykernel_11520/1042679279.py:15: DeprecationWarning: find_element_by_* commands are deprecated. Please use find_element() instead\n",
      "  elem = driver.find_element_by_link_text(\"My강의실\").click()\n",
      "C:\\Users\\bitcamp\\AppData\\Local\\Temp/ipykernel_11520/1042679279.py:18: DeprecationWarning: find_element_by_* commands are deprecated. Please use find_element() instead\n",
      "  elem = driver.find_element_by_id(\"txtPkiUserId\")\n",
      "C:\\Users\\bitcamp\\AppData\\Local\\Temp/ipykernel_11520/1042679279.py:23: DeprecationWarning: find_element_by_* commands are deprecated. Please use find_element() instead\n",
      "  iframe = driver.find_element_by_id('cont')\n",
      "C:\\Users\\bitcamp\\AppData\\Local\\Temp/ipykernel_11520/1042679279.py:25: DeprecationWarning: find_element_by_* commands are deprecated. Please use find_element() instead\n",
      "  driver.find_element_by_xpath('//*[@id=\"playerVer1\"]/div[2]/div[2]/a').click()\n",
      "C:\\Users\\bitcamp\\AppData\\Local\\Temp/ipykernel_11520/1042679279.py:28: DeprecationWarning: find_element_by_* commands are deprecated. Please use find_element() instead\n",
      "  driver.find_element_by_id(\"certPwd\").send_keys(\"Bghjbghj1021@\")\n",
      "C:\\Users\\bitcamp\\AppData\\Local\\Temp/ipykernel_11520/1042679279.py:29: DeprecationWarning: find_element_by_* commands are deprecated. Please use find_element() instead\n",
      "  elem = driver.find_element_by_xpath('//*[@id=\"nx-cert-select\"]/div[4]/button[1]').click()\n"
     ]
    }
   ],
   "source": [
    "from selenium import webdriver\n",
    "from selenium.webdriver.common.keys import Keys\n",
    "from selenium.webdriver.support.ui import WebDriverWait\n",
    "from bs4 import BeautifulSoup\n",
    "import time\n",
    "\n",
    "driver = webdriver.Chrome()\n",
    "driver.get(\"https://wf.hunet.co.kr/?_emk_keyword=%ED%9C%B4%EC%82%AC%ED%8F%89&utm_source=google&utm_medium=cpc&utm_campaign=brand&utm_content=pc&utm_term=%ED%9C%B4%EC%82%AC%ED%8F%89&gclid=CjwKCAjwwsmLBhACEiwANq-tXKVgctynWpDLO_jdPMS3ohQatjiOGSXvKPhEtGhkbcASxpfLce_aPRoCHPQQAvD_BwE\")\n",
    "time.sleep(1)\n",
    "\n",
    "driver.switch_to.window(driver.window_handles[-1])\n",
    "driver.close()\n",
    "driver.switch_to.window(driver.window_handles[0])\n",
    "\n",
    "elem = driver.find_element_by_link_text(\"My강의실\").click()\n",
    "time.sleep(1)\n",
    "\n",
    "elem = driver.find_element_by_id(\"txtPkiUserId\")\n",
    "elem.send_keys(\"rjsgn1209\")\n",
    "elem.send_keys(Keys.RETURN)\n",
    "time.sleep(1)\n",
    "\n",
    "iframe = driver.find_element_by_id('cont')\n",
    "driver.switch_to.frame(iframe)\n",
    "driver.find_element_by_xpath('//*[@id=\"playerVer1\"]/div[2]/div[2]/a').click()\n",
    "time.sleep(2)\n",
    "\n",
    "driver.find_element_by_id(\"certPwd\").send_keys(\"Bghjbghj1021@\")\n",
    "elem = driver.find_element_by_xpath('//*[@id=\"nx-cert-select\"]/div[4]/button[1]').click()\n"
   ]
  },
  {
   "cell_type": "code",
   "execution_count": 205,
   "id": "4898483c",
   "metadata": {},
   "outputs": [
    {
     "name": "stderr",
     "output_type": "stream",
     "text": [
      "C:\\Users\\bitcamp\\AppData\\Local\\Temp/ipykernel_11520/3502378355.py:1: DeprecationWarning: find_elements_by_* commands are deprecated. Please use find_elements() instead\n",
      "  elem = driver.find_elements_by_class_name(\"btn-study\")\n"
     ]
    }
   ],
   "source": [
    "elem = driver.find_elements_by_class_name(\"btn-study\")\n",
    "html = driver.page_source\n",
    "soup = BeautifulSoup(html, 'html.parser')\n",
    "imgs = soup.select(\"td img\")\n",
    "dic = {0: [], 1: [], 2: [], 3: [], 4: [], 5: [], 6: [], 7: []}\n",
    "x = 0\n",
    "a = 1\n",
    "for i in range(len(imgs)):\n",
    "    if a == 5:\n",
    "        a = 1\n",
    "        x += 1\n",
    "        \n",
    "    if imgs[i]['alt'] == \"Y\":\n",
    "        dic[x].append(imgs[i]['alt'])    \n",
    "    a+=1\n",
    "for i in range(len(elem)):\n",
    "    if len(dic[i]) < 4:\n",
    "        elem[i].click()"
   ]
  },
  {
   "cell_type": "code",
   "execution_count": 206,
   "id": "e3697a1b",
   "metadata": {},
   "outputs": [
    {
     "name": "stderr",
     "output_type": "stream",
     "text": [
      "C:\\Users\\bitcamp\\AppData\\Local\\Temp/ipykernel_11520/325195549.py:3: DeprecationWarning: find_element_by_* commands are deprecated. Please use find_element() instead\n",
      "  elem = driver.find_element_by_id(\"goStudy\").click()\n"
     ]
    }
   ],
   "source": [
    "# for문 안\n",
    "driver.switch_to.window(driver.window_handles[-1])\n",
    "elem = driver.find_element_by_id(\"goStudy\").click()"
   ]
  },
  {
   "cell_type": "code",
   "execution_count": 207,
   "id": "0fbe4564",
   "metadata": {
    "scrolled": true
   },
   "outputs": [
    {
     "name": "stdout",
     "output_type": "stream",
     "text": [
      "20 Click\n"
     ]
    },
    {
     "name": "stderr",
     "output_type": "stream",
     "text": [
      "C:\\Users\\bitcamp\\AppData\\Local\\Temp/ipykernel_11520/3538950102.py:1: DeprecationWarning: find_elements_by_* commands are deprecated. Please use find_elements() instead\n",
      "  elem = driver.find_elements_by_id(\"ctl00_ContentPlaceHolder1_rptBankStudyListByWeek_ctl17_hlStudyNow\")\n",
      "C:\\Users\\bitcamp\\AppData\\Local\\Temp/ipykernel_11520/3538950102.py:15: DeprecationWarning: find_element_by_* commands are deprecated. Please use find_element() instead\n",
      "  driver.find_element_by_id(f\"ctl00_ContentPlaceHolder1_rptBankStudyListByWeek_ctl{num-1}_hlStudyNow\").click()\n"
     ]
    }
   ],
   "source": [
    "elem = driver.find_elements_by_id(\"ctl00_ContentPlaceHolder1_rptBankStudyListByWeek_ctl17_hlStudyNow\")\n",
    "                                   \n",
    "\n",
    "html = driver.page_source\n",
    "soup = BeautifulSoup(html, \"html.parser\")\n",
    "trs = soup.select('#aspnetForm > table > tbody > tr > td > table:nth-child(2) > tbody > tr > td > table > tbody > tr > td > table > tbody > tr > td:nth-child(2) > table > tbody > tr > td:nth-child(2) > table.tbl_pro > tbody > tr')\n",
    "\n",
    "for tr in trs[1:-1]:\n",
    "    num = int(tr.select(\"span\")[0].text)\n",
    "    \n",
    "    if tr.select(\"img\"):\n",
    "        src = tr.select(\"img\")[0]['src']\n",
    "        if src == \"/images/bank/btn_study.gif\":\n",
    "            print(num, 'Click')\n",
    "            driver.find_element_by_id(f\"ctl00_ContentPlaceHolder1_rptBankStudyListByWeek_ctl{num-1}_hlStudyNow\").click()"
   ]
  },
  {
   "cell_type": "code",
   "execution_count": 208,
   "id": "e18d1bee",
   "metadata": {},
   "outputs": [
    {
     "data": {
      "text/plain": [
       "'https://seumstudy.hunet.co.kr/Study/ContentsV3/Home.aspx?userId=rjsgn1209&companySeq=0&processCd=SLSP00494&processYear=2021&processTerm=21111&courseCd=SLSC00486&takeCourseSeq=442227&chapterNo=0119&frameNo=9&frameType=ft09&indexNo=19&progressNo=18&studyStartFirstDay=&studyStartFrameDay=&appYn=N&tbankYn=N'"
      ]
     },
     "execution_count": 208,
     "metadata": {},
     "output_type": "execute_result"
    }
   ],
   "source": [
    "driver.switch_to.window(driver.window_handles[-1])  \n",
    "driver.current_url"
   ]
  },
  {
   "cell_type": "code",
   "execution_count": 227,
   "id": "bb240b9c",
   "metadata": {
    "scrolled": true
   },
   "outputs": [
    {
     "name": "stderr",
     "output_type": "stream",
     "text": [
      "C:\\Users\\bitcamp\\AppData\\Local\\Temp/ipykernel_11520/3951108066.py:2: DeprecationWarning: find_element_by_* commands are deprecated. Please use find_element() instead\n",
      "  iframe = driver.find_element_by_id('frmMain')\n"
     ]
    }
   ],
   "source": []
  },
  {
   "cell_type": "code",
   "execution_count": null,
   "id": "a98bb98c",
   "metadata": {},
   "outputs": [],
   "source": []
  },
  {
   "cell_type": "code",
   "execution_count": 247,
   "id": "129d21ce",
   "metadata": {
    "scrolled": true
   },
   "outputs": [
    {
     "name": "stderr",
     "output_type": "stream",
     "text": [
      "C:\\Users\\bitcamp\\AppData\\Local\\Temp/ipykernel_11520/2049135971.py:2: DeprecationWarning: find_element_by_* commands are deprecated. Please use find_element() instead\n",
      "  iframe = driver.find_element_by_id('frmTop')\n",
      "C:\\Users\\bitcamp\\AppData\\Local\\Temp/ipykernel_11520/2049135971.py:13: DeprecationWarning: find_element_by_* commands are deprecated. Please use find_element() instead\n",
      "  iframe = driver.find_element_by_id('frmMain')\n",
      "C:\\Users\\bitcamp\\AppData\\Local\\Temp/ipykernel_11520/2049135971.py:19: DeprecationWarning: find_element_by_* commands are deprecated. Please use find_element() instead\n",
      "  driver.find_element_by_link_text(\"Next\").click()\n"
     ]
    },
    {
     "name": "stdout",
     "output_type": "stream",
     "text": [
      "0\n",
      "1\n",
      "2\n",
      "3\n",
      "4\n",
      "5\n",
      "6\n"
     ]
    },
    {
     "name": "stderr",
     "output_type": "stream",
     "text": [
      "C:\\Users\\bitcamp\\AppData\\Local\\Temp/ipykernel_11520/2049135971.py:24: DeprecationWarning: find_element_by_* commands are deprecated. Please use find_element() instead\n",
      "  driver.find_element_by_css_selector(\"#quizMain > div.content > ul > li:nth-child(4) > a\").click()\n",
      "C:\\Users\\bitcamp\\AppData\\Local\\Temp/ipykernel_11520/2049135971.py:25: DeprecationWarning: find_element_by_* commands are deprecated. Please use find_element() instead\n",
      "  driver.find_element_by_css_selector(\"#quizMain > div.footer > a\").click()\n"
     ]
    },
    {
     "name": "stdout",
     "output_type": "stream",
     "text": [
      "0\n"
     ]
    },
    {
     "name": "stderr",
     "output_type": "stream",
     "text": [
      "C:\\Users\\bitcamp\\AppData\\Local\\Temp/ipykernel_11520/2049135971.py:29: DeprecationWarning: find_element_by_* commands are deprecated. Please use find_element() instead\n",
      "  driver.find_element_by_link_text(\"다음문제\").click()\n"
     ]
    },
    {
     "name": "stdout",
     "output_type": "stream",
     "text": [
      "8\n",
      "1\n"
     ]
    },
    {
     "name": "stderr",
     "output_type": "stream",
     "text": [
      "C:\\Users\\bitcamp\\AppData\\Local\\Temp/ipykernel_11520/2049135971.py:33: DeprecationWarning: find_element_by_* commands are deprecated. Please use find_element() instead\n",
      "  driver.find_element_by_link_text(\"다음페이지\").click()\n"
     ]
    }
   ],
   "source": [
    "driver.switch_to.window(driver.window_handles[-1])\n",
    "iframe = driver.find_element_by_id('frmTop')\n",
    "driver.switch_to.frame(iframe)\n",
    "\n",
    "html = driver.page_source\n",
    "soup = BeautifulSoup(html, \"html.parser\")\n",
    "total_num = int(soup.select(\"span#frame_total\")[0].text)\n",
    "study_num = int(soup.select(\"span#frame_count\")[0].text.replace(\"개\", \"\"))\n",
    "rest_num = 10 # total_num - study_num\n",
    "\n",
    "\n",
    "driver.switch_to.window(driver.window_handles[-1])  \n",
    "iframe = driver.find_element_by_id('frmMain')\n",
    "driver.switch_to.frame(iframe)\n",
    "\n",
    "i=0\n",
    "for _ in range(rest_num):\n",
    "    try:\n",
    "        driver.find_element_by_link_text(\"Next\").click()\n",
    "        print(_)\n",
    "        if rest_num - 1 ==  _:\n",
    "            driver.close()\n",
    "    except:\n",
    "        driver.find_element_by_css_selector(\"#quizMain > div.content > ul > li:nth-child(4) > a\").click()\n",
    "        driver.find_element_by_css_selector(\"#quizMain > div.footer > a\").click()\n",
    "        time.sleep(1)\n",
    "        print(i)\n",
    "        if i == 0:  \n",
    "            driver.find_element_by_link_text(\"다음문제\").click()\n",
    "            i += 1\n",
    "            time.sleep(2)\n",
    "        elif i == 1:\n",
    "            driver.find_element_by_link_text(\"다음페이지\").click()\n",
    "            time.sleep(2)\n",
    "            i += 1\n",
    "    time.sleep(2)\n"
   ]
  },
  {
   "cell_type": "code",
   "execution_count": 228,
   "id": "910988fa",
   "metadata": {},
   "outputs": [
    {
     "name": "stderr",
     "output_type": "stream",
     "text": [
      "C:\\Users\\bitcamp\\AppData\\Local\\Temp/ipykernel_11520/2594461766.py:2: DeprecationWarning: find_element_by_* commands are deprecated. Please use find_element() instead\n",
      "  driver.find_element_by_link_text(\"Next\").click()\n"
     ]
    },
    {
     "ename": "UnexpectedAlertPresentException",
     "evalue": "Alert Text: 퀴즈를 모두 풀어야 다음페이지로 이동할 수 있습니다.\nMessage: unexpected alert open: {Alert text : 퀴즈를 모두 풀어야 다음페이지로 이동할 수 있습니다.}\n  (Session info: chrome=97.0.4692.99)\nStacktrace:\nBacktrace:\n\tOrdinal0 [0x0094FDC3+2555331]\n\tOrdinal0 [0x008E77F1+2127857]\n\tOrdinal0 [0x007E2E08+1060360]\n\tOrdinal0 [0x0083743B+1406011]\n\tOrdinal0 [0x00827976+1341814]\n\tOrdinal0 [0x008036B6+1193654]\n\tOrdinal0 [0x00804546+1197382]\n\tGetHandleVerifier [0x00AE9622+1619522]\n\tGetHandleVerifier [0x00B9882C+2336844]\n\tGetHandleVerifier [0x009E23E1+541697]\n\tGetHandleVerifier [0x009E1443+537699]\n\tOrdinal0 [0x008ED18E+2150798]\n\tOrdinal0 [0x008F1518+2168088]\n\tOrdinal0 [0x008F1660+2168416]\n\tOrdinal0 [0x008FB330+2208560]\n\tBaseThreadInitThunk [0x76976739+25]\n\tRtlGetFullPathName_UEx [0x77AB8AFF+1215]\n\tRtlGetFullPathName_UEx [0x77AB8ACD+1165]\n",
     "output_type": "error",
     "traceback": [
      "\u001b[1;31m---------------------------------------------------------------------------\u001b[0m",
      "\u001b[1;31mUnexpectedAlertPresentException\u001b[0m           Traceback (most recent call last)",
      "\u001b[1;32m~\\AppData\\Local\\Temp/ipykernel_11520/2594461766.py\u001b[0m in \u001b[0;36m<module>\u001b[1;34m\u001b[0m\n\u001b[0;32m      1\u001b[0m \u001b[1;32mfor\u001b[0m \u001b[0mi\u001b[0m \u001b[1;32min\u001b[0m \u001b[0mrange\u001b[0m\u001b[1;33m(\u001b[0m\u001b[1;36m10\u001b[0m\u001b[1;33m)\u001b[0m\u001b[1;33m:\u001b[0m\u001b[1;33m\u001b[0m\u001b[1;33m\u001b[0m\u001b[0m\n\u001b[1;32m----> 2\u001b[1;33m     \u001b[0mdriver\u001b[0m\u001b[1;33m.\u001b[0m\u001b[0mfind_element_by_link_text\u001b[0m\u001b[1;33m(\u001b[0m\u001b[1;34m\"Next\"\u001b[0m\u001b[1;33m)\u001b[0m\u001b[1;33m.\u001b[0m\u001b[0mclick\u001b[0m\u001b[1;33m(\u001b[0m\u001b[1;33m)\u001b[0m\u001b[1;33m\u001b[0m\u001b[1;33m\u001b[0m\u001b[0m\n\u001b[0m\u001b[0;32m      3\u001b[0m     \u001b[0mtime\u001b[0m\u001b[1;33m.\u001b[0m\u001b[0msleep\u001b[0m\u001b[1;33m(\u001b[0m\u001b[1;36m1\u001b[0m\u001b[1;33m)\u001b[0m\u001b[1;33m\u001b[0m\u001b[1;33m\u001b[0m\u001b[0m\n",
      "\u001b[1;32m~\\anaconda3\\lib\\site-packages\\selenium\\webdriver\\remote\\webdriver.py\u001b[0m in \u001b[0;36mfind_element_by_link_text\u001b[1;34m(self, link_text)\u001b[0m\n\u001b[0;32m    566\u001b[0m             \u001b[0mstacklevel\u001b[0m\u001b[1;33m=\u001b[0m\u001b[1;36m2\u001b[0m\u001b[1;33m,\u001b[0m\u001b[1;33m\u001b[0m\u001b[1;33m\u001b[0m\u001b[0m\n\u001b[0;32m    567\u001b[0m         )\n\u001b[1;32m--> 568\u001b[1;33m         \u001b[1;32mreturn\u001b[0m \u001b[0mself\u001b[0m\u001b[1;33m.\u001b[0m\u001b[0mfind_element\u001b[0m\u001b[1;33m(\u001b[0m\u001b[0mby\u001b[0m\u001b[1;33m=\u001b[0m\u001b[0mBy\u001b[0m\u001b[1;33m.\u001b[0m\u001b[0mLINK_TEXT\u001b[0m\u001b[1;33m,\u001b[0m \u001b[0mvalue\u001b[0m\u001b[1;33m=\u001b[0m\u001b[0mlink_text\u001b[0m\u001b[1;33m)\u001b[0m\u001b[1;33m\u001b[0m\u001b[1;33m\u001b[0m\u001b[0m\n\u001b[0m\u001b[0;32m    569\u001b[0m \u001b[1;33m\u001b[0m\u001b[0m\n\u001b[0;32m    570\u001b[0m     \u001b[1;32mdef\u001b[0m \u001b[0mfind_elements_by_link_text\u001b[0m\u001b[1;33m(\u001b[0m\u001b[0mself\u001b[0m\u001b[1;33m,\u001b[0m \u001b[0mtext\u001b[0m\u001b[1;33m)\u001b[0m \u001b[1;33m->\u001b[0m \u001b[0mWebElement\u001b[0m\u001b[1;33m:\u001b[0m\u001b[1;33m\u001b[0m\u001b[1;33m\u001b[0m\u001b[0m\n",
      "\u001b[1;32m~\\anaconda3\\lib\\site-packages\\selenium\\webdriver\\remote\\webdriver.py\u001b[0m in \u001b[0;36mfind_element\u001b[1;34m(self, by, value)\u001b[0m\n\u001b[0;32m   1242\u001b[0m             \u001b[0mvalue\u001b[0m \u001b[1;33m=\u001b[0m \u001b[1;34m'[name=\"%s\"]'\u001b[0m \u001b[1;33m%\u001b[0m \u001b[0mvalue\u001b[0m\u001b[1;33m\u001b[0m\u001b[1;33m\u001b[0m\u001b[0m\n\u001b[0;32m   1243\u001b[0m \u001b[1;33m\u001b[0m\u001b[0m\n\u001b[1;32m-> 1244\u001b[1;33m         return self.execute(Command.FIND_ELEMENT, {\n\u001b[0m\u001b[0;32m   1245\u001b[0m             \u001b[1;34m'using'\u001b[0m\u001b[1;33m:\u001b[0m \u001b[0mby\u001b[0m\u001b[1;33m,\u001b[0m\u001b[1;33m\u001b[0m\u001b[1;33m\u001b[0m\u001b[0m\n\u001b[0;32m   1246\u001b[0m             'value': value})['value']\n",
      "\u001b[1;32m~\\anaconda3\\lib\\site-packages\\selenium\\webdriver\\remote\\webdriver.py\u001b[0m in \u001b[0;36mexecute\u001b[1;34m(self, driver_command, params)\u001b[0m\n\u001b[0;32m    422\u001b[0m         \u001b[0mresponse\u001b[0m \u001b[1;33m=\u001b[0m \u001b[0mself\u001b[0m\u001b[1;33m.\u001b[0m\u001b[0mcommand_executor\u001b[0m\u001b[1;33m.\u001b[0m\u001b[0mexecute\u001b[0m\u001b[1;33m(\u001b[0m\u001b[0mdriver_command\u001b[0m\u001b[1;33m,\u001b[0m \u001b[0mparams\u001b[0m\u001b[1;33m)\u001b[0m\u001b[1;33m\u001b[0m\u001b[1;33m\u001b[0m\u001b[0m\n\u001b[0;32m    423\u001b[0m         \u001b[1;32mif\u001b[0m \u001b[0mresponse\u001b[0m\u001b[1;33m:\u001b[0m\u001b[1;33m\u001b[0m\u001b[1;33m\u001b[0m\u001b[0m\n\u001b[1;32m--> 424\u001b[1;33m             \u001b[0mself\u001b[0m\u001b[1;33m.\u001b[0m\u001b[0merror_handler\u001b[0m\u001b[1;33m.\u001b[0m\u001b[0mcheck_response\u001b[0m\u001b[1;33m(\u001b[0m\u001b[0mresponse\u001b[0m\u001b[1;33m)\u001b[0m\u001b[1;33m\u001b[0m\u001b[1;33m\u001b[0m\u001b[0m\n\u001b[0m\u001b[0;32m    425\u001b[0m             response['value'] = self._unwrap_value(\n\u001b[0;32m    426\u001b[0m                 response.get('value', None))\n",
      "\u001b[1;32m~\\anaconda3\\lib\\site-packages\\selenium\\webdriver\\remote\\errorhandler.py\u001b[0m in \u001b[0;36mcheck_response\u001b[1;34m(self, response)\u001b[0m\n\u001b[0;32m    244\u001b[0m             \u001b[1;32melif\u001b[0m \u001b[1;34m'alert'\u001b[0m \u001b[1;32min\u001b[0m \u001b[0mvalue\u001b[0m\u001b[1;33m:\u001b[0m\u001b[1;33m\u001b[0m\u001b[1;33m\u001b[0m\u001b[0m\n\u001b[0;32m    245\u001b[0m                 \u001b[0malert_text\u001b[0m \u001b[1;33m=\u001b[0m \u001b[0mvalue\u001b[0m\u001b[1;33m[\u001b[0m\u001b[1;34m'alert'\u001b[0m\u001b[1;33m]\u001b[0m\u001b[1;33m.\u001b[0m\u001b[0mget\u001b[0m\u001b[1;33m(\u001b[0m\u001b[1;34m'text'\u001b[0m\u001b[1;33m)\u001b[0m\u001b[1;33m\u001b[0m\u001b[1;33m\u001b[0m\u001b[0m\n\u001b[1;32m--> 246\u001b[1;33m             \u001b[1;32mraise\u001b[0m \u001b[0mexception_class\u001b[0m\u001b[1;33m(\u001b[0m\u001b[0mmessage\u001b[0m\u001b[1;33m,\u001b[0m \u001b[0mscreen\u001b[0m\u001b[1;33m,\u001b[0m \u001b[0mstacktrace\u001b[0m\u001b[1;33m,\u001b[0m \u001b[0malert_text\u001b[0m\u001b[1;33m)\u001b[0m  \u001b[1;31m# type: ignore[call-arg]  # mypy is not smart enough here\u001b[0m\u001b[1;33m\u001b[0m\u001b[1;33m\u001b[0m\u001b[0m\n\u001b[0m\u001b[0;32m    247\u001b[0m         \u001b[1;32mraise\u001b[0m \u001b[0mexception_class\u001b[0m\u001b[1;33m(\u001b[0m\u001b[0mmessage\u001b[0m\u001b[1;33m,\u001b[0m \u001b[0mscreen\u001b[0m\u001b[1;33m,\u001b[0m \u001b[0mstacktrace\u001b[0m\u001b[1;33m)\u001b[0m\u001b[1;33m\u001b[0m\u001b[1;33m\u001b[0m\u001b[0m\n\u001b[0;32m    248\u001b[0m \u001b[1;33m\u001b[0m\u001b[0m\n",
      "\u001b[1;31mUnexpectedAlertPresentException\u001b[0m: Alert Text: 퀴즈를 모두 풀어야 다음페이지로 이동할 수 있습니다.\nMessage: unexpected alert open: {Alert text : 퀴즈를 모두 풀어야 다음페이지로 이동할 수 있습니다.}\n  (Session info: chrome=97.0.4692.99)\nStacktrace:\nBacktrace:\n\tOrdinal0 [0x0094FDC3+2555331]\n\tOrdinal0 [0x008E77F1+2127857]\n\tOrdinal0 [0x007E2E08+1060360]\n\tOrdinal0 [0x0083743B+1406011]\n\tOrdinal0 [0x00827976+1341814]\n\tOrdinal0 [0x008036B6+1193654]\n\tOrdinal0 [0x00804546+1197382]\n\tGetHandleVerifier [0x00AE9622+1619522]\n\tGetHandleVerifier [0x00B9882C+2336844]\n\tGetHandleVerifier [0x009E23E1+541697]\n\tGetHandleVerifier [0x009E1443+537699]\n\tOrdinal0 [0x008ED18E+2150798]\n\tOrdinal0 [0x008F1518+2168088]\n\tOrdinal0 [0x008F1660+2168416]\n\tOrdinal0 [0x008FB330+2208560]\n\tBaseThreadInitThunk [0x76976739+25]\n\tRtlGetFullPathName_UEx [0x77AB8AFF+1215]\n\tRtlGetFullPathName_UEx [0x77AB8ACD+1165]\n"
     ]
    }
   ],
   "source": [
    "for i in range(10):\n",
    "    driver.find_element_by_link_text(\"Next\").click()\n",
    "    time.sleep(1)"
   ]
  },
  {
   "cell_type": "code",
   "execution_count": null,
   "id": "f8fbf4ef",
   "metadata": {},
   "outputs": [],
   "source": []
  }
 ],
 "metadata": {
  "kernelspec": {
   "display_name": "Python 3 (ipykernel)",
   "language": "python",
   "name": "python3"
  },
  "language_info": {
   "codemirror_mode": {
    "name": "ipython",
    "version": 3
   },
   "file_extension": ".py",
   "mimetype": "text/x-python",
   "name": "python",
   "nbconvert_exporter": "python",
   "pygments_lexer": "ipython3",
   "version": "3.9.7"
  }
 },
 "nbformat": 4,
 "nbformat_minor": 5
}
